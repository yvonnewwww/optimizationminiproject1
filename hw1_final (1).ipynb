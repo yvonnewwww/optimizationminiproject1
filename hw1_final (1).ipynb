{
  "cells": [
    {
      "cell_type": "code",
      "execution_count": 3,
      "metadata": {
        "id": "WJ0oSikkCagm",
        "colab": {
          "base_uri": "https://localhost:8080/",
          "height": 1000
        },
        "outputId": "f980cafc-2836-4595-e5a3-9bd653e30d7d"
      },
      "outputs": [
        {
          "output_type": "stream",
          "name": "stdout",
          "text": [
            "Looking in indexes: https://pypi.org/simple, https://us-python.pkg.dev/colab-wheels/public/simple/\n",
            "Requirement already satisfied: tensorflow in /usr/local/lib/python3.8/dist-packages (2.9.2)\n",
            "Requirement already satisfied: termcolor>=1.1.0 in /usr/local/lib/python3.8/dist-packages (from tensorflow) (2.2.0)\n",
            "Requirement already satisfied: astunparse>=1.6.0 in /usr/local/lib/python3.8/dist-packages (from tensorflow) (1.6.3)\n",
            "Requirement already satisfied: numpy>=1.20 in /usr/local/lib/python3.8/dist-packages (from tensorflow) (1.21.6)\n",
            "Requirement already satisfied: tensorflow-estimator<2.10.0,>=2.9.0rc0 in /usr/local/lib/python3.8/dist-packages (from tensorflow) (2.9.0)\n",
            "Requirement already satisfied: libclang>=13.0.0 in /usr/local/lib/python3.8/dist-packages (from tensorflow) (15.0.6.1)\n",
            "Requirement already satisfied: gast<=0.4.0,>=0.2.1 in /usr/local/lib/python3.8/dist-packages (from tensorflow) (0.4.0)\n",
            "Requirement already satisfied: typing-extensions>=3.6.6 in /usr/local/lib/python3.8/dist-packages (from tensorflow) (4.4.0)\n",
            "Requirement already satisfied: protobuf<3.20,>=3.9.2 in /usr/local/lib/python3.8/dist-packages (from tensorflow) (3.19.6)\n",
            "Requirement already satisfied: flatbuffers<2,>=1.12 in /usr/local/lib/python3.8/dist-packages (from tensorflow) (1.12)\n",
            "Requirement already satisfied: h5py>=2.9.0 in /usr/local/lib/python3.8/dist-packages (from tensorflow) (3.1.0)\n",
            "Requirement already satisfied: absl-py>=1.0.0 in /usr/local/lib/python3.8/dist-packages (from tensorflow) (1.3.0)\n",
            "Requirement already satisfied: tensorboard<2.10,>=2.9 in /usr/local/lib/python3.8/dist-packages (from tensorflow) (2.9.1)\n",
            "Requirement already satisfied: opt-einsum>=2.3.2 in /usr/local/lib/python3.8/dist-packages (from tensorflow) (3.3.0)\n",
            "Requirement already satisfied: keras<2.10.0,>=2.9.0rc0 in /usr/local/lib/python3.8/dist-packages (from tensorflow) (2.9.0)\n",
            "Requirement already satisfied: tensorflow-io-gcs-filesystem>=0.23.1 in /usr/local/lib/python3.8/dist-packages (from tensorflow) (0.29.0)\n",
            "Requirement already satisfied: grpcio<2.0,>=1.24.3 in /usr/local/lib/python3.8/dist-packages (from tensorflow) (1.51.1)\n",
            "Requirement already satisfied: google-pasta>=0.1.1 in /usr/local/lib/python3.8/dist-packages (from tensorflow) (0.2.0)\n",
            "Requirement already satisfied: six>=1.12.0 in /usr/local/lib/python3.8/dist-packages (from tensorflow) (1.15.0)\n",
            "Requirement already satisfied: setuptools in /usr/local/lib/python3.8/dist-packages (from tensorflow) (57.4.0)\n",
            "Requirement already satisfied: packaging in /usr/local/lib/python3.8/dist-packages (from tensorflow) (21.3)\n",
            "Requirement already satisfied: keras-preprocessing>=1.1.1 in /usr/local/lib/python3.8/dist-packages (from tensorflow) (1.1.2)\n",
            "Requirement already satisfied: wrapt>=1.11.0 in /usr/local/lib/python3.8/dist-packages (from tensorflow) (1.14.1)\n",
            "Requirement already satisfied: wheel<1.0,>=0.23.0 in /usr/local/lib/python3.8/dist-packages (from astunparse>=1.6.0->tensorflow) (0.38.4)\n",
            "Requirement already satisfied: google-auth<3,>=1.6.3 in /usr/local/lib/python3.8/dist-packages (from tensorboard<2.10,>=2.9->tensorflow) (2.16.0)\n",
            "Requirement already satisfied: markdown>=2.6.8 in /usr/local/lib/python3.8/dist-packages (from tensorboard<2.10,>=2.9->tensorflow) (3.4.1)\n",
            "Requirement already satisfied: requests<3,>=2.21.0 in /usr/local/lib/python3.8/dist-packages (from tensorboard<2.10,>=2.9->tensorflow) (2.25.1)\n",
            "Requirement already satisfied: tensorboard-data-server<0.7.0,>=0.6.0 in /usr/local/lib/python3.8/dist-packages (from tensorboard<2.10,>=2.9->tensorflow) (0.6.1)\n",
            "Requirement already satisfied: google-auth-oauthlib<0.5,>=0.4.1 in /usr/local/lib/python3.8/dist-packages (from tensorboard<2.10,>=2.9->tensorflow) (0.4.6)\n",
            "Requirement already satisfied: werkzeug>=1.0.1 in /usr/local/lib/python3.8/dist-packages (from tensorboard<2.10,>=2.9->tensorflow) (1.0.1)\n",
            "Requirement already satisfied: tensorboard-plugin-wit>=1.6.0 in /usr/local/lib/python3.8/dist-packages (from tensorboard<2.10,>=2.9->tensorflow) (1.8.1)\n",
            "Requirement already satisfied: pyparsing!=3.0.5,>=2.0.2 in /usr/local/lib/python3.8/dist-packages (from packaging->tensorflow) (3.0.9)\n",
            "Requirement already satisfied: pyasn1-modules>=0.2.1 in /usr/local/lib/python3.8/dist-packages (from google-auth<3,>=1.6.3->tensorboard<2.10,>=2.9->tensorflow) (0.2.8)\n",
            "Requirement already satisfied: cachetools<6.0,>=2.0.0 in /usr/local/lib/python3.8/dist-packages (from google-auth<3,>=1.6.3->tensorboard<2.10,>=2.9->tensorflow) (5.2.1)\n",
            "Requirement already satisfied: rsa<5,>=3.1.4 in /usr/local/lib/python3.8/dist-packages (from google-auth<3,>=1.6.3->tensorboard<2.10,>=2.9->tensorflow) (4.9)\n",
            "Requirement already satisfied: requests-oauthlib>=0.7.0 in /usr/local/lib/python3.8/dist-packages (from google-auth-oauthlib<0.5,>=0.4.1->tensorboard<2.10,>=2.9->tensorflow) (1.3.1)\n",
            "Requirement already satisfied: importlib-metadata>=4.4 in /usr/local/lib/python3.8/dist-packages (from markdown>=2.6.8->tensorboard<2.10,>=2.9->tensorflow) (6.0.0)\n",
            "Requirement already satisfied: chardet<5,>=3.0.2 in /usr/local/lib/python3.8/dist-packages (from requests<3,>=2.21.0->tensorboard<2.10,>=2.9->tensorflow) (4.0.0)\n",
            "Requirement already satisfied: urllib3<1.27,>=1.21.1 in /usr/local/lib/python3.8/dist-packages (from requests<3,>=2.21.0->tensorboard<2.10,>=2.9->tensorflow) (1.24.3)\n",
            "Requirement already satisfied: certifi>=2017.4.17 in /usr/local/lib/python3.8/dist-packages (from requests<3,>=2.21.0->tensorboard<2.10,>=2.9->tensorflow) (2022.12.7)\n",
            "Requirement already satisfied: idna<3,>=2.5 in /usr/local/lib/python3.8/dist-packages (from requests<3,>=2.21.0->tensorboard<2.10,>=2.9->tensorflow) (2.10)\n",
            "Requirement already satisfied: zipp>=0.5 in /usr/local/lib/python3.8/dist-packages (from importlib-metadata>=4.4->markdown>=2.6.8->tensorboard<2.10,>=2.9->tensorflow) (3.11.0)\n",
            "Requirement already satisfied: pyasn1<0.5.0,>=0.4.6 in /usr/local/lib/python3.8/dist-packages (from pyasn1-modules>=0.2.1->google-auth<3,>=1.6.3->tensorboard<2.10,>=2.9->tensorflow) (0.4.8)\n",
            "Requirement already satisfied: oauthlib>=3.0.0 in /usr/local/lib/python3.8/dist-packages (from requests-oauthlib>=0.7.0->google-auth-oauthlib<0.5,>=0.4.1->tensorboard<2.10,>=2.9->tensorflow) (3.2.2)\n",
            "Looking in indexes: https://pypi.org/simple, https://us-python.pkg.dev/colab-wheels/public/simple/\n",
            "Collecting anvil-uplink\n",
            "  Downloading anvil_uplink-0.4.1-py2.py3-none-any.whl (87 kB)\n",
            "\u001b[2K     \u001b[90m━━━━━━━━━━━━━━━━━━━━━━━━━━━━━━━━━━━━━━━━\u001b[0m \u001b[32m88.0/88.0 KB\u001b[0m \u001b[31m3.9 MB/s\u001b[0m eta \u001b[36m0:00:00\u001b[0m\n",
            "\u001b[?25hCollecting argparse\n",
            "  Downloading argparse-1.4.0-py2.py3-none-any.whl (23 kB)\n",
            "Requirement already satisfied: six in /usr/local/lib/python3.8/dist-packages (from anvil-uplink) (1.15.0)\n",
            "Collecting ws4py\n",
            "  Downloading ws4py-0.5.1.tar.gz (51 kB)\n",
            "\u001b[2K     \u001b[90m━━━━━━━━━━━━━━━━━━━━━━━━━━━━━━━━━━━━━━━━\u001b[0m \u001b[32m51.4/51.4 KB\u001b[0m \u001b[31m8.3 MB/s\u001b[0m eta \u001b[36m0:00:00\u001b[0m\n",
            "\u001b[?25h  Preparing metadata (setup.py) ... \u001b[?25l\u001b[?25hdone\n",
            "Requirement already satisfied: future in /usr/local/lib/python3.8/dist-packages (from anvil-uplink) (0.16.0)\n",
            "Building wheels for collected packages: ws4py\n",
            "  Building wheel for ws4py (setup.py) ... \u001b[?25l\u001b[?25hdone\n",
            "  Created wheel for ws4py: filename=ws4py-0.5.1-py3-none-any.whl size=45229 sha256=bd2a0009e3dd6b61f9aee5ea9fbe23c4fc25b20a2c9d626d2bd438f30f374f4d\n",
            "  Stored in directory: /root/.cache/pip/wheels/ea/f9/a1/34e2943cce3cf7daca304bfc35e91280694ced9194a487ce2f\n",
            "Successfully built ws4py\n",
            "Installing collected packages: ws4py, argparse, anvil-uplink\n",
            "Successfully installed anvil-uplink-0.4.1 argparse-1.4.0 ws4py-0.5.1\n"
          ]
        },
        {
          "output_type": "display_data",
          "data": {
            "application/vnd.colab-display-data+json": {
              "pip_warning": {
                "packages": [
                  "argparse",
                  "google"
                ]
              }
            }
          },
          "metadata": {}
        },
        {
          "output_type": "stream",
          "name": "stdout",
          "text": [
            "Connecting to wss://anvil.works/uplink\n",
            "Anvil websocket open\n",
            "Connected to \"MNIST\" as SERVER\n"
          ]
        }
      ],
      "source": [
        "!pip install tensorflow\n",
        "!pip install anvil-uplink\n",
        "import numpy as np\n",
        "import anvil.media\n",
        "import matplotlib.pyplot as plt\n",
        "%matplotlib inline\n",
        "\n",
        "import anvil.server\n",
        "\n",
        "anvil.server.connect(\"server_YY6SP6KOUNSC4ZV6E7NWXGCK-SXKRM2Z5TSDCIZ2L\")\n",
        "import tensorflow as tf"
      ]
    },
    {
      "cell_type": "code",
      "execution_count": 4,
      "metadata": {
        "id": "cC90Zc1JCag0",
        "colab": {
          "base_uri": "https://localhost:8080/"
        },
        "outputId": "144f06ff-3fd3-4350-fefc-4b74518ae4b2"
      },
      "outputs": [
        {
          "output_type": "stream",
          "name": "stdout",
          "text": [
            "Downloading data from https://storage.googleapis.com/tensorflow/tf-keras-datasets/mnist.npz\n",
            "11490434/11490434 [==============================] - 0s 0us/step\n"
          ]
        }
      ],
      "source": [
        "mnist = tf.keras.datasets.mnist\n",
        "\n",
        "(x_train, y_train),(x_test, y_test) = mnist.load_data()\n",
        "x_train, x_test = x_train / 255.0, x_test / 255.0\n",
        "\n",
        "ndata_train = x_train.shape[0]\n",
        "ndata_test = x_test.shape[0]\n"
      ]
    },
    {
      "cell_type": "code",
      "execution_count": 5,
      "metadata": {
        "id": "9aRe3jYdAL9y",
        "colab": {
          "base_uri": "https://localhost:8080/",
          "height": 248
        },
        "outputId": "2099318b-680f-44be-f137-8eb1d0edbdda"
      },
      "outputs": [
        {
          "output_type": "display_data",
          "data": {
            "text/plain": [
              "<Figure size 432x288 with 1 Axes>"
            ],
            "image/png": "[encoded data removed]"
          },
          "metadata": {
            "needs_background": "light"
          }
        }
      ],
      "source": [
        "plt.pcolor( 1-x_train[811,::-1,:] , cmap = 'gray' );\n",
        "plt.axis('off');"
      ]
    },
    {
      "cell_type": "code",
      "execution_count": 6,
      "metadata": {
        "id": "WLk18_VGCag4"
      },
      "outputs": [],
      "source": [
        "x_train = x_train.reshape((ndata_train,28,28,1))\n",
        "x_test = x_test.reshape((ndata_test,28,28,1))\n",
        "\n",
        "xshape = x_train.shape[1:4]"
      ]
    },
    {
      "cell_type": "code",
      "execution_count": 7,
      "metadata": {
        "id": "YBj3Vp56__jO"
      },
      "outputs": [],
      "source": [
        "def get_model(val_split):\n",
        "  NNmodel2 = tf.keras.models.Sequential()\n",
        "  NNmodel2.add(tf.keras.layers.Conv2D(filters=32,kernel_size=(3,3),activation=tf.nn.relu,input_shape=xshape))\n",
        "  NNmodel2.add(tf.keras.layers.MaxPooling2D(pool_size = (2,2)))\n",
        "  NNmodel2.add(tf.keras.layers.Conv2D(filters=64,kernel_size=(3,3),activation=tf.nn.relu))\n",
        "  NNmodel2.add(tf.keras.layers.MaxPooling2D(pool_size = (2,2)))\n",
        "  NNmodel2.add(tf.keras.layers.Flatten())\n",
        "  NNmodel2.add(tf.keras.layers.Dense(128,activation=tf.nn.relu))\n",
        "  NNmodel2.add(tf.keras.layers.Dropout(0.5))\n",
        "  NNmodel2.add(tf.keras.layers.Dense(10,activation=tf.nn.softmax))\n",
        "  NNmodel2.compile(optimizer='adam',\n",
        "                loss='sparse_categorical_crossentropy',\n",
        "                metrics=['accuracy'])\n",
        "  NNmodel2.summary()\n",
        "  hist=NNmodel2.fit(x_train,y_train,epochs=16,validation_split=val_split,batch_size=32)\n",
        "  return (NNmodel2,hist)"
      ]
    },
    {
      "cell_type": "code",
      "source": [
        "import os\n",
        "\n",
        "if os.path.exists('mnist_model'):\n",
        "  model = tf.keras.models.load_model('mnist_model')\n",
        "else:\n",
        "  model,hist=get_model(0.2)\n",
        "  if hist.history['val_accuracy'][-1] > 0.99:\n",
        "    model,hist=get_model(0)\n",
        "    print('accuracy of the entire training set is', hist.history['accuracy'][-1])\n",
        "    model.save('mnist_model')\n",
        "  else:\n",
        "    print('val_accuracy < 0.99')\n",
        "    raise SystemExit(\"Stop right there!\")"
      ],
      "metadata": {
        "colab": {
          "base_uri": "https://localhost:8080/"
        },
        "id": "vBrHiNtds_JT",
        "outputId": "48cc018c-02f5-4d78-af9c-cda2a045dd85"
      },
      "execution_count": 8,
      "outputs": [
        {
          "output_type": "stream",
          "name": "stdout",
          "text": [
            "Model: \"sequential\"\n",
            "_________________________________________________________________\n",
            " Layer (type)                Output Shape              Param #   \n",
            "=================================================================\n",
            " conv2d (Conv2D)             (None, 26, 26, 32)        320       \n",
            "                                                                 \n",
            " max_pooling2d (MaxPooling2D  (None, 13, 13, 32)       0         \n",
            " )                                                               \n",
            "                                                                 \n",
            " conv2d_1 (Conv2D)           (None, 11, 11, 64)        18496     \n",
            "                                                                 \n",
            " max_pooling2d_1 (MaxPooling  (None, 5, 5, 64)         0         \n",
            " 2D)                                                             \n",
            "                                                                 \n",
            " flatten (Flatten)           (None, 1600)              0         \n",
            "                                                                 \n",
            " dense (Dense)               (None, 128)               204928    \n",
            "                                                                 \n",
            " dropout (Dropout)           (None, 128)               0         \n",
            "                                                                 \n",
            " dense_1 (Dense)             (None, 10)                1290      \n",
            "                                                                 \n",
            "=================================================================\n",
            "Total params: 225,034\n",
            "Trainable params: 225,034\n",
            "Non-trainable params: 0\n",
            "_________________________________________________________________\n",
            "Epoch 1/16\n",
            "1500/1500 [==============================] - 15s 4ms/step - loss: 0.2383 - accuracy: 0.9271 - val_loss: 0.0723 - val_accuracy: 0.9784\n",
            "Epoch 2/16\n",
            "1500/1500 [==============================] - 6s 4ms/step - loss: 0.0900 - accuracy: 0.9740 - val_loss: 0.0425 - val_accuracy: 0.9877\n",
            "Epoch 3/16\n",
            "1500/1500 [==============================] - 7s 4ms/step - loss: 0.0649 - accuracy: 0.9809 - val_loss: 0.0384 - val_accuracy: 0.9888\n",
            "Epoch 4/16\n",
            "1500/1500 [==============================] - 6s 4ms/step - loss: 0.0535 - accuracy: 0.9837 - val_loss: 0.0391 - val_accuracy: 0.9893\n",
            "Epoch 5/16\n",
            "1500/1500 [==============================] - 6s 4ms/step - loss: 0.0431 - accuracy: 0.9867 - val_loss: 0.0350 - val_accuracy: 0.9911\n",
            "Epoch 6/16\n",
            "1500/1500 [==============================] - 7s 4ms/step - loss: 0.0365 - accuracy: 0.9881 - val_loss: 0.0315 - val_accuracy: 0.9918\n",
            "Epoch 7/16\n",
            "1500/1500 [==============================] - 7s 4ms/step - loss: 0.0324 - accuracy: 0.9900 - val_loss: 0.0366 - val_accuracy: 0.9910\n",
            "Epoch 8/16\n",
            "1500/1500 [==============================] - 7s 4ms/step - loss: 0.0284 - accuracy: 0.9909 - val_loss: 0.0408 - val_accuracy: 0.9896\n",
            "Epoch 9/16\n",
            "1500/1500 [==============================] - 7s 4ms/step - loss: 0.0235 - accuracy: 0.9925 - val_loss: 0.0322 - val_accuracy: 0.9916\n",
            "Epoch 10/16\n",
            "1500/1500 [==============================] - 6s 4ms/step - loss: 0.0216 - accuracy: 0.9929 - val_loss: 0.0388 - val_accuracy: 0.9908\n",
            "Epoch 11/16\n",
            "1500/1500 [==============================] - 6s 4ms/step - loss: 0.0210 - accuracy: 0.9933 - val_loss: 0.0424 - val_accuracy: 0.9902\n",
            "Epoch 12/16\n",
            "1500/1500 [==============================] - 6s 4ms/step - loss: 0.0193 - accuracy: 0.9933 - val_loss: 0.0401 - val_accuracy: 0.9918\n",
            "Epoch 13/16\n",
            "1500/1500 [==============================] - 7s 4ms/step - loss: 0.0177 - accuracy: 0.9938 - val_loss: 0.0389 - val_accuracy: 0.9909\n",
            "Epoch 14/16\n",
            "1500/1500 [==============================] - 6s 4ms/step - loss: 0.0159 - accuracy: 0.9948 - val_loss: 0.0425 - val_accuracy: 0.9920\n",
            "Epoch 15/16\n",
            "1500/1500 [==============================] - 7s 4ms/step - loss: 0.0141 - accuracy: 0.9953 - val_loss: 0.0421 - val_accuracy: 0.9916\n",
            "Epoch 16/16\n",
            "1500/1500 [==============================] - 7s 4ms/step - loss: 0.0133 - accuracy: 0.9959 - val_loss: 0.0444 - val_accuracy: 0.9913\n",
            "Model: \"sequential_1\"\n",
            "_________________________________________________________________\n",
            " Layer (type)                Output Shape              Param #   \n",
            "=================================================================\n",
            " conv2d_2 (Conv2D)           (None, 26, 26, 32)        320       \n",
            "                                                                 \n",
            " max_pooling2d_2 (MaxPooling  (None, 13, 13, 32)       0         \n",
            " 2D)                                                             \n",
            "                                                                 \n",
            " conv2d_3 (Conv2D)           (None, 11, 11, 64)        18496     \n",
            "                                                                 \n",
            " max_pooling2d_3 (MaxPooling  (None, 5, 5, 64)         0         \n",
            " 2D)                                                             \n",
            "                                                                 \n",
            " flatten_1 (Flatten)         (None, 1600)              0         \n",
            "                                                                 \n",
            " dense_2 (Dense)             (None, 128)               204928    \n",
            "                                                                 \n",
            " dropout_1 (Dropout)         (None, 128)               0         \n",
            "                                                                 \n",
            " dense_3 (Dense)             (None, 10)                1290      \n",
            "                                                                 \n",
            "=================================================================\n",
            "Total params: 225,034\n",
            "Trainable params: 225,034\n",
            "Non-trainable params: 0\n",
            "_________________________________________________________________\n",
            "Epoch 1/16\n",
            "1875/1875 [==============================] - 7s 4ms/step - loss: 0.2090 - accuracy: 0.9373\n",
            "Epoch 2/16\n",
            "1875/1875 [==============================] - 7s 4ms/step - loss: 0.0744 - accuracy: 0.9776\n",
            "Epoch 3/16\n",
            "1875/1875 [==============================] - 7s 4ms/step - loss: 0.0555 - accuracy: 0.9840\n",
            "Epoch 4/16\n",
            "1875/1875 [==============================] - 7s 4ms/step - loss: 0.0442 - accuracy: 0.9868\n",
            "Epoch 5/16\n",
            "1875/1875 [==============================] - 7s 4ms/step - loss: 0.0379 - accuracy: 0.9890\n",
            "Epoch 6/16\n",
            "1875/1875 [==============================] - 7s 4ms/step - loss: 0.0323 - accuracy: 0.9900\n",
            "Epoch 7/16\n",
            "1875/1875 [==============================] - 7s 4ms/step - loss: 0.0274 - accuracy: 0.9914\n",
            "Epoch 8/16\n",
            "1875/1875 [==============================] - 7s 4ms/step - loss: 0.0258 - accuracy: 0.9919\n",
            "Epoch 9/16\n",
            "1875/1875 [==============================] - 7s 4ms/step - loss: 0.0228 - accuracy: 0.9926\n",
            "Epoch 10/16\n",
            "1875/1875 [==============================] - 7s 4ms/step - loss: 0.0207 - accuracy: 0.9936\n",
            "Epoch 11/16\n",
            "1875/1875 [==============================] - 7s 4ms/step - loss: 0.0186 - accuracy: 0.9937\n",
            "Epoch 12/16\n",
            "1875/1875 [==============================] - 7s 4ms/step - loss: 0.0172 - accuracy: 0.9942\n",
            "Epoch 13/16\n",
            "1875/1875 [==============================] - 7s 4ms/step - loss: 0.0154 - accuracy: 0.9950\n",
            "Epoch 14/16\n",
            "1875/1875 [==============================] - 7s 4ms/step - loss: 0.0161 - accuracy: 0.9949\n",
            "Epoch 15/16\n",
            "1875/1875 [==============================] - 7s 4ms/step - loss: 0.0149 - accuracy: 0.9950\n",
            "Epoch 16/16\n",
            "1875/1875 [==============================] - 7s 4ms/step - loss: 0.0131 - accuracy: 0.9959\n",
            "accuracy of the entire training set is 0.9959166646003723\n"
          ]
        },
        {
          "output_type": "stream",
          "name": "stderr",
          "text": [
            "WARNING:absl:Found untraced functions such as _jit_compiled_convolution_op, _jit_compiled_convolution_op while saving (showing 2 of 2). These functions will not be directly callable after loading.\n"
          ]
        }
      ]
    },
    {
      "cell_type": "code",
      "source": [
        "from google.colab import drive\n",
        "drive.mount('/content/drive')\n",
        "model.save(\"/content/drive/MyDrive/hw_1.h5\")"
      ],
      "metadata": {
        "colab": {
          "base_uri": "https://localhost:8080/"
        },
        "id": "AXBZQpLBVrto",
        "outputId": "d2948061-206c-48cd-a944-2374f209bc40"
      },
      "execution_count": 18,
      "outputs": [
        {
          "output_type": "stream",
          "name": "stdout",
          "text": [
            "Drive already mounted at /content/drive; to attempt to forcibly remount, call drive.mount(\"/content/drive\", force_remount=True).\n"
          ]
        }
      ]
    },
    {
      "cell_type": "code",
      "execution_count": 10,
      "metadata": {
        "id": "6MwlnSeocr50",
        "colab": {
          "base_uri": "https://localhost:8080/"
        },
        "outputId": "d25b4c70-5d03-476f-802c-03d4a0660e54"
      },
      "outputs": [
        {
          "output_type": "stream",
          "name": "stdout",
          "text": [
            "313/313 [==============================] - 1s 3ms/step - loss: 0.0307 - accuracy: 0.9924\n",
            "Test accuracy 0.9923999905586243\n"
          ]
        }
      ],
      "source": [
        "test_loss,test_acc=model.evaluate(x_test,y_test)\n",
        "print('Test accuracy',test_acc)"
      ]
    },
    {
      "cell_type": "code",
      "execution_count": 11,
      "metadata": {
        "id": "0Z04Aw9ls-83",
        "colab": {
          "base_uri": "https://localhost:8080/",
          "height": 131
        },
        "outputId": "666bc57f-123f-4c77-d9de-db8deae3ea61"
      },
      "outputs": [
        {
          "output_type": "stream",
          "name": "stdout",
          "text": [
            "313/313 [==============================] - 1s 2ms/step\n"
          ]
        },
        {
          "output_type": "display_data",
          "data": {
            "text/plain": [
              "<Figure size 5400x432 with 15 Axes>"
            ],
            "image/png": "[encoded data removed]"
          },
          "metadata": {
            "needs_background": "light"
          }
        }
      ],
      "source": [
        "# Plot a few of the numbers you misclassify from the test set.\n",
        "# 15 numbers\n",
        "pred_probs2 = model.predict(x_test)\n",
        "pred2 = np.argmax(pred_probs2, axis=1)\n",
        "error_nums=x_test[pred2!=y_test].reshape(x_test[pred2!=y_test].shape[:3])\n",
        "n=15\n",
        "plt.figure(figsize=(n*5,6))\n",
        "for i in range(n):\n",
        "    plt.subplot(1, n, i+1)\n",
        "    plt.pcolor( 1-error_nums[i,::-1,:] , cmap = 'gray' )\n",
        "    plt.axis('off')"
      ]
    },
    {
      "cell_type": "code",
      "execution_count": 12,
      "metadata": {
        "id": "YkdlAs_4CahZ",
        "colab": {
          "base_uri": "https://localhost:8080/",
          "height": 131
        },
        "outputId": "6e1ed28a-cf61-4cb5-82ec-2b6470186775"
      },
      "outputs": [
        {
          "output_type": "stream",
          "name": "stdout",
          "text": [
            "313/313 [==============================] - 1s 2ms/step\n"
          ]
        },
        {
          "output_type": "display_data",
          "data": {
            "text/plain": [
              "<Figure size 5400x432 with 15 Axes>"
            ],
            "image/png": "[encoded data removed]"
          },
          "metadata": {
            "needs_background": "light"
          }
        }
      ],
      "source": [
        "# Plot a few of the numbers you classify from the test set.\n",
        "# 15 numbers\n",
        "\n",
        "pred_probs2 = model.predict(x_test)\n",
        "pred2 = np.argmax(pred_probs2, axis=1)\n",
        "error_nums=x_test[pred2==y_test].reshape(x_test[pred2==y_test].shape[:3])\n",
        "n=15\n",
        "plt.figure(figsize=(n*5,6))\n",
        "for i in range(n):\n",
        "    plt.subplot(1, n, i+1)\n",
        "    plt.pcolor( 1-error_nums[i,::-1,:] , cmap = 'gray' )\n",
        "    plt.axis('off')"
      ]
    }
  ],
  "metadata": {
    "colab": {
      "provenance": []
    },
    "kernelspec": {
      "display_name": "Python 3 (ipykernel)",
      "language": "python",
      "name": "python3"
    },
    "language_info": {
      "codemirror_mode": {
        "name": "ipython",
        "version": 3
      },
      "file_extension": ".py",
      "mimetype": "text/x-python",
      "name": "python",
      "nbconvert_exporter": "python",
      "pygments_lexer": "ipython3",
      "version": "3.9.12"
    },
    "toc": {
      "base_numbering": 1,
      "nav_menu": {},
      "number_sections": true,
      "sideBar": true,
      "skip_h1_title": false,
      "title_cell": "Table of Contents",
      "title_sidebar": "Contents",
      "toc_cell": false,
      "toc_position": {},
      "toc_section_display": true,
      "toc_window_display": false
    },
    "varInspector": {
      "cols": {
        "lenName": 16,
        "lenType": 16,
        "lenVar": 40
      },
      "kernels_config": {
        "python": {
          "delete_cmd_postfix": "",
          "delete_cmd_prefix": "del ",
          "library": "var_list.py",
          "varRefreshCmd": "print(var_dic_list())"
        },
        "r": {
          "delete_cmd_postfix": ") ",
          "delete_cmd_prefix": "rm(",
          "library": "var_list.r",
          "varRefreshCmd": "cat(var_dic_list()) "
        }
      },
      "types_to_exclude": [
        "module",
        "function",
        "builtin_function_or_method",
        "instance",
        "_Feature"
      ],
      "window_display": false
    },
    "gpuClass": "standard",
    "accelerator": "GPU"
  },
  "nbformat": 4,
  "nbformat_minor": 0
}